{
  "nbformat": 4,
  "nbformat_minor": 0,
  "metadata": {
    "colab": {
      "name": "Artificial Neural Network",
      "provenance": [],
      "collapsed_sections": [],
      "include_colab_link": true
    },
    "kernelspec": {
      "name": "python3",
      "display_name": "Python 3"
    }
  },
  "cells": [
    {
      "cell_type": "markdown",
      "metadata": {
        "id": "view-in-github",
        "colab_type": "text"
      },
      "source": [
        "<a href=\"https://colab.research.google.com/github/tarekhussein/plasticity/blob/master/Artificial_Neural_Network.ipynb\" target=\"_parent\"><img src=\"https://colab.research.google.com/assets/colab-badge.svg\" alt=\"Open In Colab\"/></a>"
      ]
    },
    {
      "cell_type": "markdown",
      "metadata": {
        "id": "3cbb7fRy-eyr"
      },
      "source": [
        "# Artificial Neural Network"
      ]
    },
    {
      "cell_type": "markdown",
      "metadata": {
        "id": "8sNDnxE2-pwE"
      },
      "source": [
        "### Importing the libraries"
      ]
    },
    {
      "cell_type": "code",
      "metadata": {
        "id": "lxChR1Rk-umf"
      },
      "source": [
        "import numpy as np\n",
        "import pandas as pd\n",
        "import tensorflow as tf"
      ],
      "execution_count": 4,
      "outputs": []
    },
    {
      "cell_type": "code",
      "metadata": {
        "id": "uBTqR3nacj0e",
        "colab": {
          "base_uri": "https://localhost:8080/",
          "height": 35
        },
        "outputId": "aa57bef0-eb0d-4c5c-f67d-711ed50ffd4b"
      },
      "source": [
        "tf.__version__"
      ],
      "execution_count": 5,
      "outputs": [
        {
          "output_type": "execute_result",
          "data": {
            "text/plain": [
              "'2.8.0'"
            ],
            "application/vnd.google.colaboratory.intrinsic+json": {
              "type": "string"
            }
          },
          "metadata": {},
          "execution_count": 5
        }
      ]
    },
    {
      "cell_type": "markdown",
      "metadata": {
        "id": "AG3FQEch-yuA"
      },
      "source": [
        "## Part 1 - Data Preprocessing"
      ]
    },
    {
      "cell_type": "markdown",
      "metadata": {
        "id": "-4zq8Mza_D9O"
      },
      "source": [
        "### Importing the dataset 'electrode composition of slurry'"
      ]
    },
    {
      "cell_type": "code",
      "metadata": {
        "id": "B9CV13Co_HHM"
      },
      "source": [
        "dataset = pd.read_excel('mixed.xlsx')\n",
        "X = dataset.iloc[:, :-1].values\n",
        "y = dataset.iloc[:, -1].values"
      ],
      "execution_count": 7,
      "outputs": []
    },
    {
      "cell_type": "markdown",
      "metadata": {
        "id": "VC6omXel_Up0"
      },
      "source": [
        "### Splitting the dataset into the Training set and Test set"
      ]
    },
    {
      "cell_type": "code",
      "metadata": {
        "id": "L5edeb2r_agx"
      },
      "source": [
        "from sklearn.model_selection import train_test_split\n",
        "X_train, X_test, y_train, y_test = train_test_split(X, y, test_size = 0.2, random_state = 0)"
      ],
      "execution_count": 8,
      "outputs": []
    },
    {
      "cell_type": "markdown",
      "source": [
        "Feature Scaling"
      ],
      "metadata": {
        "id": "5WBNSvAXF4CE"
      }
    },
    {
      "cell_type": "code",
      "source": [
        "from sklearn.preprocessing import StandardScaler\n",
        "sc= StandardScaler()\n",
        "X_train=sc.fit_transform(X_train)\n",
        "X_test= sc.transform(X_test)\n"
      ],
      "metadata": {
        "id": "tlwMbPTbF9Cg"
      },
      "execution_count": 9,
      "outputs": []
    },
    {
      "cell_type": "markdown",
      "metadata": {
        "id": "_mSLlAT9_eyI"
      },
      "source": [
        "## Part 2 - Building the ANN"
      ]
    },
    {
      "cell_type": "markdown",
      "metadata": {
        "id": "CsBULd_f_wLY"
      },
      "source": [
        "### Initializing the ANN"
      ]
    },
    {
      "cell_type": "code",
      "metadata": {
        "id": "J6Hd97Ls__Nz"
      },
      "source": [
        "ann = tf.keras.models.Sequential()"
      ],
      "execution_count": 10,
      "outputs": []
    },
    {
      "cell_type": "markdown",
      "metadata": {
        "id": "iitAFJS_ABUn"
      },
      "source": [
        "### Adding the input layer and the first hidden layer"
      ]
    },
    {
      "cell_type": "code",
      "metadata": {
        "id": "ksO_Vv40AHix"
      },
      "source": [
        "ann.add(tf.keras.layers.Dense(units=6, activation='relu'))"
      ],
      "execution_count": 11,
      "outputs": []
    },
    {
      "cell_type": "markdown",
      "metadata": {
        "id": "-lb4kK_wAKbs"
      },
      "source": [
        "### Adding the second hidden layer"
      ]
    },
    {
      "cell_type": "code",
      "metadata": {
        "id": "c2357OqEAQOQ"
      },
      "source": [
        "ann.add(tf.keras.layers.Dense(units=6, activation='relu'))"
      ],
      "execution_count": 12,
      "outputs": []
    },
    {
      "cell_type": "markdown",
      "metadata": {
        "id": "jwMOmKb3AdBY"
      },
      "source": [
        "### Adding the output layer"
      ]
    },
    {
      "cell_type": "code",
      "metadata": {
        "id": "YFATpzsUAkLL"
      },
      "source": [
        "ann.add(tf.keras.layers.Dense(units=1, activation='sigmoid'))"
      ],
      "execution_count": 13,
      "outputs": []
    },
    {
      "cell_type": "markdown",
      "metadata": {
        "id": "fq7e4fF6A1yy"
      },
      "source": [
        "## Part 3 - Training the ANN"
      ]
    },
    {
      "cell_type": "markdown",
      "metadata": {
        "id": "qDeylAs2An25"
      },
      "source": [
        "### Compiling the ANN"
      ]
    },
    {
      "cell_type": "code",
      "metadata": {
        "id": "pesgbWlCAtB4"
      },
      "source": [
        "ann.compile(optimizer = 'adam', loss = 'binary_crossentropy', metrics = 'accuracy')"
      ],
      "execution_count": 14,
      "outputs": []
    },
    {
      "cell_type": "markdown",
      "metadata": {
        "id": "YjVuiybYOo7r"
      },
      "source": [
        "### Training the ANN model on the Training set"
      ]
    },
    {
      "cell_type": "code",
      "metadata": {
        "id": "c_vV-tiiA5zn",
        "colab": {
          "base_uri": "https://localhost:8080/"
        },
        "outputId": "1119149b-d265-468d-de70-1961eb847507"
      },
      "source": [
        "ann.fit(X_train, y_train, batch_size = 32, epochs = 200)"
      ],
      "execution_count": 15,
      "outputs": [
        {
          "output_type": "stream",
          "name": "stdout",
          "text": [
            "Epoch 1/200\n",
            "1/1 [==============================] - 1s 916ms/step - loss: 1.2502 - accuracy: 0.4118\n",
            "Epoch 2/200\n",
            "1/1 [==============================] - 0s 13ms/step - loss: 1.2400 - accuracy: 0.4118\n",
            "Epoch 3/200\n",
            "1/1 [==============================] - 0s 7ms/step - loss: 1.2298 - accuracy: 0.4118\n",
            "Epoch 4/200\n",
            "1/1 [==============================] - 0s 8ms/step - loss: 1.2196 - accuracy: 0.4118\n",
            "Epoch 5/200\n",
            "1/1 [==============================] - 0s 11ms/step - loss: 1.2096 - accuracy: 0.4118\n",
            "Epoch 6/200\n",
            "1/1 [==============================] - 0s 15ms/step - loss: 1.1996 - accuracy: 0.4118\n",
            "Epoch 7/200\n",
            "1/1 [==============================] - 0s 11ms/step - loss: 1.1897 - accuracy: 0.4118\n",
            "Epoch 8/200\n",
            "1/1 [==============================] - 0s 11ms/step - loss: 1.1799 - accuracy: 0.4118\n",
            "Epoch 9/200\n",
            "1/1 [==============================] - 0s 10ms/step - loss: 1.1702 - accuracy: 0.4706\n",
            "Epoch 10/200\n",
            "1/1 [==============================] - 0s 15ms/step - loss: 1.1606 - accuracy: 0.4706\n",
            "Epoch 11/200\n",
            "1/1 [==============================] - 0s 10ms/step - loss: 1.1511 - accuracy: 0.4706\n",
            "Epoch 12/200\n",
            "1/1 [==============================] - 0s 9ms/step - loss: 1.1418 - accuracy: 0.4706\n",
            "Epoch 13/200\n",
            "1/1 [==============================] - 0s 8ms/step - loss: 1.1327 - accuracy: 0.4706\n",
            "Epoch 14/200\n",
            "1/1 [==============================] - 0s 6ms/step - loss: 1.1237 - accuracy: 0.4706\n",
            "Epoch 15/200\n",
            "1/1 [==============================] - 0s 6ms/step - loss: 1.1149 - accuracy: 0.4706\n",
            "Epoch 16/200\n",
            "1/1 [==============================] - 0s 13ms/step - loss: 1.1062 - accuracy: 0.4706\n",
            "Epoch 17/200\n",
            "1/1 [==============================] - 0s 11ms/step - loss: 1.0976 - accuracy: 0.4706\n",
            "Epoch 18/200\n",
            "1/1 [==============================] - 0s 8ms/step - loss: 1.0890 - accuracy: 0.5294\n",
            "Epoch 19/200\n",
            "1/1 [==============================] - 0s 8ms/step - loss: 1.0805 - accuracy: 0.5294\n",
            "Epoch 20/200\n",
            "1/1 [==============================] - 0s 6ms/step - loss: 1.0721 - accuracy: 0.5294\n",
            "Epoch 21/200\n",
            "1/1 [==============================] - 0s 7ms/step - loss: 1.0637 - accuracy: 0.5294\n",
            "Epoch 22/200\n",
            "1/1 [==============================] - 0s 6ms/step - loss: 1.0555 - accuracy: 0.5294\n",
            "Epoch 23/200\n",
            "1/1 [==============================] - 0s 7ms/step - loss: 1.0473 - accuracy: 0.5294\n",
            "Epoch 24/200\n",
            "1/1 [==============================] - 0s 7ms/step - loss: 1.0392 - accuracy: 0.5294\n",
            "Epoch 25/200\n",
            "1/1 [==============================] - 0s 6ms/step - loss: 1.0310 - accuracy: 0.5294\n",
            "Epoch 26/200\n",
            "1/1 [==============================] - 0s 8ms/step - loss: 1.0229 - accuracy: 0.5294\n",
            "Epoch 27/200\n",
            "1/1 [==============================] - 0s 8ms/step - loss: 1.0148 - accuracy: 0.5294\n",
            "Epoch 28/200\n",
            "1/1 [==============================] - 0s 6ms/step - loss: 1.0067 - accuracy: 0.5294\n",
            "Epoch 29/200\n",
            "1/1 [==============================] - 0s 7ms/step - loss: 0.9987 - accuracy: 0.5294\n",
            "Epoch 30/200\n",
            "1/1 [==============================] - 0s 6ms/step - loss: 0.9906 - accuracy: 0.5294\n",
            "Epoch 31/200\n",
            "1/1 [==============================] - 0s 7ms/step - loss: 0.9825 - accuracy: 0.5294\n",
            "Epoch 32/200\n",
            "1/1 [==============================] - 0s 7ms/step - loss: 0.9745 - accuracy: 0.5294\n",
            "Epoch 33/200\n",
            "1/1 [==============================] - 0s 7ms/step - loss: 0.9666 - accuracy: 0.5294\n",
            "Epoch 34/200\n",
            "1/1 [==============================] - 0s 6ms/step - loss: 0.9587 - accuracy: 0.5294\n",
            "Epoch 35/200\n",
            "1/1 [==============================] - 0s 7ms/step - loss: 0.9509 - accuracy: 0.5294\n",
            "Epoch 36/200\n",
            "1/1 [==============================] - 0s 6ms/step - loss: 0.9431 - accuracy: 0.5294\n",
            "Epoch 37/200\n",
            "1/1 [==============================] - 0s 6ms/step - loss: 0.9354 - accuracy: 0.5294\n",
            "Epoch 38/200\n",
            "1/1 [==============================] - 0s 7ms/step - loss: 0.9278 - accuracy: 0.5294\n",
            "Epoch 39/200\n",
            "1/1 [==============================] - 0s 9ms/step - loss: 0.9203 - accuracy: 0.5294\n",
            "Epoch 40/200\n",
            "1/1 [==============================] - 0s 8ms/step - loss: 0.9128 - accuracy: 0.5294\n",
            "Epoch 41/200\n",
            "1/1 [==============================] - 0s 7ms/step - loss: 0.9054 - accuracy: 0.5294\n",
            "Epoch 42/200\n",
            "1/1 [==============================] - 0s 7ms/step - loss: 0.8981 - accuracy: 0.5294\n",
            "Epoch 43/200\n",
            "1/1 [==============================] - 0s 7ms/step - loss: 0.8909 - accuracy: 0.5294\n",
            "Epoch 44/200\n",
            "1/1 [==============================] - 0s 6ms/step - loss: 0.8837 - accuracy: 0.5294\n",
            "Epoch 45/200\n",
            "1/1 [==============================] - 0s 6ms/step - loss: 0.8766 - accuracy: 0.5294\n",
            "Epoch 46/200\n",
            "1/1 [==============================] - 0s 6ms/step - loss: 0.8696 - accuracy: 0.5294\n",
            "Epoch 47/200\n",
            "1/1 [==============================] - 0s 6ms/step - loss: 0.8627 - accuracy: 0.5294\n",
            "Epoch 48/200\n",
            "1/1 [==============================] - 0s 6ms/step - loss: 0.8558 - accuracy: 0.5294\n",
            "Epoch 49/200\n",
            "1/1 [==============================] - 0s 6ms/step - loss: 0.8490 - accuracy: 0.5294\n",
            "Epoch 50/200\n",
            "1/1 [==============================] - 0s 6ms/step - loss: 0.8423 - accuracy: 0.5294\n",
            "Epoch 51/200\n",
            "1/1 [==============================] - 0s 8ms/step - loss: 0.8359 - accuracy: 0.5294\n",
            "Epoch 52/200\n",
            "1/1 [==============================] - 0s 6ms/step - loss: 0.8295 - accuracy: 0.5882\n",
            "Epoch 53/200\n",
            "1/1 [==============================] - 0s 6ms/step - loss: 0.8231 - accuracy: 0.5882\n",
            "Epoch 54/200\n",
            "1/1 [==============================] - 0s 6ms/step - loss: 0.8169 - accuracy: 0.5882\n",
            "Epoch 55/200\n",
            "1/1 [==============================] - 0s 6ms/step - loss: 0.8107 - accuracy: 0.5882\n",
            "Epoch 56/200\n",
            "1/1 [==============================] - 0s 6ms/step - loss: 0.8046 - accuracy: 0.5882\n",
            "Epoch 57/200\n",
            "1/1 [==============================] - 0s 11ms/step - loss: 0.7986 - accuracy: 0.5882\n",
            "Epoch 58/200\n",
            "1/1 [==============================] - 0s 6ms/step - loss: 0.7926 - accuracy: 0.5882\n",
            "Epoch 59/200\n",
            "1/1 [==============================] - 0s 6ms/step - loss: 0.7867 - accuracy: 0.5882\n",
            "Epoch 60/200\n",
            "1/1 [==============================] - 0s 6ms/step - loss: 0.7809 - accuracy: 0.5882\n",
            "Epoch 61/200\n",
            "1/1 [==============================] - 0s 6ms/step - loss: 0.7751 - accuracy: 0.5882\n",
            "Epoch 62/200\n",
            "1/1 [==============================] - 0s 6ms/step - loss: 0.7694 - accuracy: 0.5882\n",
            "Epoch 63/200\n",
            "1/1 [==============================] - 0s 6ms/step - loss: 0.7637 - accuracy: 0.5882\n",
            "Epoch 64/200\n",
            "1/1 [==============================] - 0s 6ms/step - loss: 0.7581 - accuracy: 0.5882\n",
            "Epoch 65/200\n",
            "1/1 [==============================] - 0s 6ms/step - loss: 0.7526 - accuracy: 0.5882\n",
            "Epoch 66/200\n",
            "1/1 [==============================] - 0s 6ms/step - loss: 0.7470 - accuracy: 0.5882\n",
            "Epoch 67/200\n",
            "1/1 [==============================] - 0s 6ms/step - loss: 0.7415 - accuracy: 0.5882\n",
            "Epoch 68/200\n",
            "1/1 [==============================] - 0s 6ms/step - loss: 0.7360 - accuracy: 0.5882\n",
            "Epoch 69/200\n",
            "1/1 [==============================] - 0s 6ms/step - loss: 0.7306 - accuracy: 0.5882\n",
            "Epoch 70/200\n",
            "1/1 [==============================] - 0s 6ms/step - loss: 0.7252 - accuracy: 0.5882\n",
            "Epoch 71/200\n",
            "1/1 [==============================] - 0s 6ms/step - loss: 0.7199 - accuracy: 0.5882\n",
            "Epoch 72/200\n",
            "1/1 [==============================] - 0s 6ms/step - loss: 0.7147 - accuracy: 0.5882\n",
            "Epoch 73/200\n",
            "1/1 [==============================] - 0s 6ms/step - loss: 0.7096 - accuracy: 0.5882\n",
            "Epoch 74/200\n",
            "1/1 [==============================] - 0s 6ms/step - loss: 0.7045 - accuracy: 0.5882\n",
            "Epoch 75/200\n",
            "1/1 [==============================] - 0s 6ms/step - loss: 0.6994 - accuracy: 0.5882\n",
            "Epoch 76/200\n",
            "1/1 [==============================] - 0s 6ms/step - loss: 0.6944 - accuracy: 0.5882\n",
            "Epoch 77/200\n",
            "1/1 [==============================] - 0s 5ms/step - loss: 0.6895 - accuracy: 0.5882\n",
            "Epoch 78/200\n",
            "1/1 [==============================] - 0s 6ms/step - loss: 0.6846 - accuracy: 0.5882\n",
            "Epoch 79/200\n",
            "1/1 [==============================] - 0s 5ms/step - loss: 0.6798 - accuracy: 0.5882\n",
            "Epoch 80/200\n",
            "1/1 [==============================] - 0s 10ms/step - loss: 0.6750 - accuracy: 0.5882\n",
            "Epoch 81/200\n",
            "1/1 [==============================] - 0s 5ms/step - loss: 0.6703 - accuracy: 0.5882\n",
            "Epoch 82/200\n",
            "1/1 [==============================] - 0s 5ms/step - loss: 0.6656 - accuracy: 0.5882\n",
            "Epoch 83/200\n",
            "1/1 [==============================] - 0s 6ms/step - loss: 0.6609 - accuracy: 0.5882\n",
            "Epoch 84/200\n",
            "1/1 [==============================] - 0s 14ms/step - loss: 0.6563 - accuracy: 0.5882\n",
            "Epoch 85/200\n",
            "1/1 [==============================] - 0s 12ms/step - loss: 0.6518 - accuracy: 0.5882\n",
            "Epoch 86/200\n",
            "1/1 [==============================] - 0s 10ms/step - loss: 0.6472 - accuracy: 0.5882\n",
            "Epoch 87/200\n",
            "1/1 [==============================] - 0s 6ms/step - loss: 0.6428 - accuracy: 0.6471\n",
            "Epoch 88/200\n",
            "1/1 [==============================] - 0s 11ms/step - loss: 0.6384 - accuracy: 0.6471\n",
            "Epoch 89/200\n",
            "1/1 [==============================] - 0s 8ms/step - loss: 0.6340 - accuracy: 0.6471\n",
            "Epoch 90/200\n",
            "1/1 [==============================] - 0s 10ms/step - loss: 0.6296 - accuracy: 0.6471\n",
            "Epoch 91/200\n",
            "1/1 [==============================] - 0s 6ms/step - loss: 0.6253 - accuracy: 0.6471\n",
            "Epoch 92/200\n",
            "1/1 [==============================] - 0s 6ms/step - loss: 0.6211 - accuracy: 0.7059\n",
            "Epoch 93/200\n",
            "1/1 [==============================] - 0s 7ms/step - loss: 0.6169 - accuracy: 0.7059\n",
            "Epoch 94/200\n",
            "1/1 [==============================] - 0s 7ms/step - loss: 0.6127 - accuracy: 0.7059\n",
            "Epoch 95/200\n",
            "1/1 [==============================] - 0s 8ms/step - loss: 0.6086 - accuracy: 0.7059\n",
            "Epoch 96/200\n",
            "1/1 [==============================] - 0s 6ms/step - loss: 0.6045 - accuracy: 0.7059\n",
            "Epoch 97/200\n",
            "1/1 [==============================] - 0s 6ms/step - loss: 0.6004 - accuracy: 0.7059\n",
            "Epoch 98/200\n",
            "1/1 [==============================] - 0s 6ms/step - loss: 0.5964 - accuracy: 0.7647\n",
            "Epoch 99/200\n",
            "1/1 [==============================] - 0s 11ms/step - loss: 0.5924 - accuracy: 0.7647\n",
            "Epoch 100/200\n",
            "1/1 [==============================] - 0s 9ms/step - loss: 0.5885 - accuracy: 0.7647\n",
            "Epoch 101/200\n",
            "1/1 [==============================] - 0s 7ms/step - loss: 0.5846 - accuracy: 0.7647\n",
            "Epoch 102/200\n",
            "1/1 [==============================] - 0s 6ms/step - loss: 0.5807 - accuracy: 0.7647\n",
            "Epoch 103/200\n",
            "1/1 [==============================] - 0s 7ms/step - loss: 0.5770 - accuracy: 0.7647\n",
            "Epoch 104/200\n",
            "1/1 [==============================] - 0s 7ms/step - loss: 0.5733 - accuracy: 0.8235\n",
            "Epoch 105/200\n",
            "1/1 [==============================] - 0s 7ms/step - loss: 0.5697 - accuracy: 0.8235\n",
            "Epoch 106/200\n",
            "1/1 [==============================] - 0s 6ms/step - loss: 0.5662 - accuracy: 0.8235\n",
            "Epoch 107/200\n",
            "1/1 [==============================] - 0s 8ms/step - loss: 0.5626 - accuracy: 0.8235\n",
            "Epoch 108/200\n",
            "1/1 [==============================] - 0s 7ms/step - loss: 0.5591 - accuracy: 0.8235\n",
            "Epoch 109/200\n",
            "1/1 [==============================] - 0s 8ms/step - loss: 0.5556 - accuracy: 0.8824\n",
            "Epoch 110/200\n",
            "1/1 [==============================] - 0s 9ms/step - loss: 0.5522 - accuracy: 0.8824\n",
            "Epoch 111/200\n",
            "1/1 [==============================] - 0s 8ms/step - loss: 0.5488 - accuracy: 0.8824\n",
            "Epoch 112/200\n",
            "1/1 [==============================] - 0s 6ms/step - loss: 0.5455 - accuracy: 0.8824\n",
            "Epoch 113/200\n",
            "1/1 [==============================] - 0s 13ms/step - loss: 0.5421 - accuracy: 0.8824\n",
            "Epoch 114/200\n",
            "1/1 [==============================] - 0s 11ms/step - loss: 0.5388 - accuracy: 0.8824\n",
            "Epoch 115/200\n",
            "1/1 [==============================] - 0s 5ms/step - loss: 0.5355 - accuracy: 0.9412\n",
            "Epoch 116/200\n",
            "1/1 [==============================] - 0s 6ms/step - loss: 0.5323 - accuracy: 0.9412\n",
            "Epoch 117/200\n",
            "1/1 [==============================] - 0s 6ms/step - loss: 0.5290 - accuracy: 0.9412\n",
            "Epoch 118/200\n",
            "1/1 [==============================] - 0s 9ms/step - loss: 0.5259 - accuracy: 0.9412\n",
            "Epoch 119/200\n",
            "1/1 [==============================] - 0s 6ms/step - loss: 0.5227 - accuracy: 0.9412\n",
            "Epoch 120/200\n",
            "1/1 [==============================] - 0s 6ms/step - loss: 0.5195 - accuracy: 0.9412\n",
            "Epoch 121/200\n",
            "1/1 [==============================] - 0s 19ms/step - loss: 0.5164 - accuracy: 1.0000\n",
            "Epoch 122/200\n",
            "1/1 [==============================] - 0s 12ms/step - loss: 0.5133 - accuracy: 1.0000\n",
            "Epoch 123/200\n",
            "1/1 [==============================] - 0s 8ms/step - loss: 0.5103 - accuracy: 1.0000\n",
            "Epoch 124/200\n",
            "1/1 [==============================] - 0s 7ms/step - loss: 0.5072 - accuracy: 1.0000\n",
            "Epoch 125/200\n",
            "1/1 [==============================] - 0s 8ms/step - loss: 0.5042 - accuracy: 1.0000\n",
            "Epoch 126/200\n",
            "1/1 [==============================] - 0s 11ms/step - loss: 0.5012 - accuracy: 1.0000\n",
            "Epoch 127/200\n",
            "1/1 [==============================] - 0s 7ms/step - loss: 0.4983 - accuracy: 1.0000\n",
            "Epoch 128/200\n",
            "1/1 [==============================] - 0s 7ms/step - loss: 0.4953 - accuracy: 1.0000\n",
            "Epoch 129/200\n",
            "1/1 [==============================] - 0s 9ms/step - loss: 0.4925 - accuracy: 1.0000\n",
            "Epoch 130/200\n",
            "1/1 [==============================] - 0s 7ms/step - loss: 0.4896 - accuracy: 1.0000\n",
            "Epoch 131/200\n",
            "1/1 [==============================] - 0s 8ms/step - loss: 0.4868 - accuracy: 1.0000\n",
            "Epoch 132/200\n",
            "1/1 [==============================] - 0s 7ms/step - loss: 0.4840 - accuracy: 1.0000\n",
            "Epoch 133/200\n",
            "1/1 [==============================] - 0s 8ms/step - loss: 0.4812 - accuracy: 1.0000\n",
            "Epoch 134/200\n",
            "1/1 [==============================] - 0s 8ms/step - loss: 0.4785 - accuracy: 1.0000\n",
            "Epoch 135/200\n",
            "1/1 [==============================] - 0s 7ms/step - loss: 0.4759 - accuracy: 1.0000\n",
            "Epoch 136/200\n",
            "1/1 [==============================] - 0s 8ms/step - loss: 0.4732 - accuracy: 1.0000\n",
            "Epoch 137/200\n",
            "1/1 [==============================] - 0s 8ms/step - loss: 0.4705 - accuracy: 1.0000\n",
            "Epoch 138/200\n",
            "1/1 [==============================] - 0s 8ms/step - loss: 0.4678 - accuracy: 1.0000\n",
            "Epoch 139/200\n",
            "1/1 [==============================] - 0s 7ms/step - loss: 0.4651 - accuracy: 1.0000\n",
            "Epoch 140/200\n",
            "1/1 [==============================] - 0s 7ms/step - loss: 0.4624 - accuracy: 1.0000\n",
            "Epoch 141/200\n",
            "1/1 [==============================] - 0s 11ms/step - loss: 0.4597 - accuracy: 1.0000\n",
            "Epoch 142/200\n",
            "1/1 [==============================] - 0s 6ms/step - loss: 0.4571 - accuracy: 1.0000\n",
            "Epoch 143/200\n",
            "1/1 [==============================] - 0s 7ms/step - loss: 0.4544 - accuracy: 1.0000\n",
            "Epoch 144/200\n",
            "1/1 [==============================] - 0s 9ms/step - loss: 0.4518 - accuracy: 1.0000\n",
            "Epoch 145/200\n",
            "1/1 [==============================] - 0s 9ms/step - loss: 0.4491 - accuracy: 1.0000\n",
            "Epoch 146/200\n",
            "1/1 [==============================] - 0s 9ms/step - loss: 0.4465 - accuracy: 1.0000\n",
            "Epoch 147/200\n",
            "1/1 [==============================] - 0s 15ms/step - loss: 0.4439 - accuracy: 1.0000\n",
            "Epoch 148/200\n",
            "1/1 [==============================] - 0s 11ms/step - loss: 0.4413 - accuracy: 1.0000\n",
            "Epoch 149/200\n",
            "1/1 [==============================] - 0s 7ms/step - loss: 0.4388 - accuracy: 1.0000\n",
            "Epoch 150/200\n",
            "1/1 [==============================] - 0s 8ms/step - loss: 0.4362 - accuracy: 1.0000\n",
            "Epoch 151/200\n",
            "1/1 [==============================] - 0s 8ms/step - loss: 0.4335 - accuracy: 1.0000\n",
            "Epoch 152/200\n",
            "1/1 [==============================] - 0s 9ms/step - loss: 0.4308 - accuracy: 1.0000\n",
            "Epoch 153/200\n",
            "1/1 [==============================] - 0s 8ms/step - loss: 0.4281 - accuracy: 1.0000\n",
            "Epoch 154/200\n",
            "1/1 [==============================] - 0s 9ms/step - loss: 0.4254 - accuracy: 1.0000\n",
            "Epoch 155/200\n",
            "1/1 [==============================] - 0s 8ms/step - loss: 0.4227 - accuracy: 1.0000\n",
            "Epoch 156/200\n",
            "1/1 [==============================] - 0s 8ms/step - loss: 0.4201 - accuracy: 1.0000\n",
            "Epoch 157/200\n",
            "1/1 [==============================] - 0s 7ms/step - loss: 0.4174 - accuracy: 1.0000\n",
            "Epoch 158/200\n",
            "1/1 [==============================] - 0s 10ms/step - loss: 0.4148 - accuracy: 1.0000\n",
            "Epoch 159/200\n",
            "1/1 [==============================] - 0s 19ms/step - loss: 0.4121 - accuracy: 1.0000\n",
            "Epoch 160/200\n",
            "1/1 [==============================] - 0s 10ms/step - loss: 0.4095 - accuracy: 1.0000\n",
            "Epoch 161/200\n",
            "1/1 [==============================] - 0s 8ms/step - loss: 0.4069 - accuracy: 1.0000\n",
            "Epoch 162/200\n",
            "1/1 [==============================] - 0s 8ms/step - loss: 0.4042 - accuracy: 1.0000\n",
            "Epoch 163/200\n",
            "1/1 [==============================] - 0s 8ms/step - loss: 0.4016 - accuracy: 1.0000\n",
            "Epoch 164/200\n",
            "1/1 [==============================] - 0s 11ms/step - loss: 0.3990 - accuracy: 1.0000\n",
            "Epoch 165/200\n",
            "1/1 [==============================] - 0s 7ms/step - loss: 0.3965 - accuracy: 1.0000\n",
            "Epoch 166/200\n",
            "1/1 [==============================] - 0s 7ms/step - loss: 0.3939 - accuracy: 1.0000\n",
            "Epoch 167/200\n",
            "1/1 [==============================] - 0s 14ms/step - loss: 0.3913 - accuracy: 1.0000\n",
            "Epoch 168/200\n",
            "1/1 [==============================] - 0s 9ms/step - loss: 0.3888 - accuracy: 1.0000\n",
            "Epoch 169/200\n",
            "1/1 [==============================] - 0s 14ms/step - loss: 0.3863 - accuracy: 1.0000\n",
            "Epoch 170/200\n",
            "1/1 [==============================] - 0s 7ms/step - loss: 0.3838 - accuracy: 1.0000\n",
            "Epoch 171/200\n",
            "1/1 [==============================] - 0s 6ms/step - loss: 0.3813 - accuracy: 1.0000\n",
            "Epoch 172/200\n",
            "1/1 [==============================] - 0s 10ms/step - loss: 0.3788 - accuracy: 1.0000\n",
            "Epoch 173/200\n",
            "1/1 [==============================] - 0s 6ms/step - loss: 0.3763 - accuracy: 1.0000\n",
            "Epoch 174/200\n",
            "1/1 [==============================] - 0s 15ms/step - loss: 0.3738 - accuracy: 1.0000\n",
            "Epoch 175/200\n",
            "1/1 [==============================] - 0s 13ms/step - loss: 0.3714 - accuracy: 1.0000\n",
            "Epoch 176/200\n",
            "1/1 [==============================] - 0s 7ms/step - loss: 0.3690 - accuracy: 1.0000\n",
            "Epoch 177/200\n",
            "1/1 [==============================] - 0s 6ms/step - loss: 0.3666 - accuracy: 1.0000\n",
            "Epoch 178/200\n",
            "1/1 [==============================] - 0s 11ms/step - loss: 0.3642 - accuracy: 1.0000\n",
            "Epoch 179/200\n",
            "1/1 [==============================] - 0s 10ms/step - loss: 0.3618 - accuracy: 1.0000\n",
            "Epoch 180/200\n",
            "1/1 [==============================] - 0s 8ms/step - loss: 0.3595 - accuracy: 1.0000\n",
            "Epoch 181/200\n",
            "1/1 [==============================] - 0s 11ms/step - loss: 0.3571 - accuracy: 1.0000\n",
            "Epoch 182/200\n",
            "1/1 [==============================] - 0s 9ms/step - loss: 0.3548 - accuracy: 1.0000\n",
            "Epoch 183/200\n",
            "1/1 [==============================] - 0s 11ms/step - loss: 0.3525 - accuracy: 1.0000\n",
            "Epoch 184/200\n",
            "1/1 [==============================] - 0s 12ms/step - loss: 0.3502 - accuracy: 1.0000\n",
            "Epoch 185/200\n",
            "1/1 [==============================] - 0s 7ms/step - loss: 0.3479 - accuracy: 1.0000\n",
            "Epoch 186/200\n",
            "1/1 [==============================] - 0s 9ms/step - loss: 0.3457 - accuracy: 1.0000\n",
            "Epoch 187/200\n",
            "1/1 [==============================] - 0s 8ms/step - loss: 0.3434 - accuracy: 1.0000\n",
            "Epoch 188/200\n",
            "1/1 [==============================] - 0s 9ms/step - loss: 0.3412 - accuracy: 1.0000\n",
            "Epoch 189/200\n",
            "1/1 [==============================] - 0s 10ms/step - loss: 0.3390 - accuracy: 1.0000\n",
            "Epoch 190/200\n",
            "1/1 [==============================] - 0s 10ms/step - loss: 0.3368 - accuracy: 1.0000\n",
            "Epoch 191/200\n",
            "1/1 [==============================] - 0s 13ms/step - loss: 0.3346 - accuracy: 1.0000\n",
            "Epoch 192/200\n",
            "1/1 [==============================] - 0s 9ms/step - loss: 0.3325 - accuracy: 1.0000\n",
            "Epoch 193/200\n",
            "1/1 [==============================] - 0s 8ms/step - loss: 0.3303 - accuracy: 1.0000\n",
            "Epoch 194/200\n",
            "1/1 [==============================] - 0s 9ms/step - loss: 0.3282 - accuracy: 1.0000\n",
            "Epoch 195/200\n",
            "1/1 [==============================] - 0s 10ms/step - loss: 0.3261 - accuracy: 1.0000\n",
            "Epoch 196/200\n",
            "1/1 [==============================] - 0s 11ms/step - loss: 0.3240 - accuracy: 1.0000\n",
            "Epoch 197/200\n",
            "1/1 [==============================] - 0s 6ms/step - loss: 0.3219 - accuracy: 1.0000\n",
            "Epoch 198/200\n",
            "1/1 [==============================] - 0s 9ms/step - loss: 0.3198 - accuracy: 1.0000\n",
            "Epoch 199/200\n",
            "1/1 [==============================] - 0s 5ms/step - loss: 0.3176 - accuracy: 1.0000\n",
            "Epoch 200/200\n",
            "1/1 [==============================] - 0s 6ms/step - loss: 0.3154 - accuracy: 1.0000\n"
          ]
        },
        {
          "output_type": "execute_result",
          "data": {
            "text/plain": [
              "<keras.callbacks.History at 0x7f4798a46050>"
            ]
          },
          "metadata": {},
          "execution_count": 15
        }
      ]
    },
    {
      "cell_type": "markdown",
      "metadata": {
        "id": "0H0zKKNEBLD5"
      },
      "source": [
        "### Predicting the results of the Test set 'Prediciting electrode slurry, where 0:anode & 1:cathode'"
      ]
    },
    {
      "cell_type": "code",
      "source": [
        "print(ann.predict(sc.transform([[55,3.8,2.3,35.7]])))"
      ],
      "metadata": {
        "colab": {
          "base_uri": "https://localhost:8080/"
        },
        "id": "UuQpmuQUoRqA",
        "outputId": "49930785-990d-45cf-fb3d-b4ac2b9f9564"
      },
      "execution_count": 16,
      "outputs": [
        {
          "output_type": "stream",
          "name": "stdout",
          "text": [
            "[[0.8107002]]\n"
          ]
        }
      ]
    },
    {
      "cell_type": "markdown",
      "source": [
        "**which means that this slurry composition tends to be as Cathode eletrode**"
      ],
      "metadata": {
        "id": "GydDA7sTKSSI"
      }
    },
    {
      "cell_type": "code",
      "source": [
        "print(ann.predict(sc.transform([[50.7,0.54,2.7,46]])))"
      ],
      "metadata": {
        "id": "0YS8OqkwJX5I",
        "outputId": "23b2d2b0-d9c0-4f0c-95d4-b0b6549892d1",
        "colab": {
          "base_uri": "https://localhost:8080/"
        }
      },
      "execution_count": 17,
      "outputs": [
        {
          "output_type": "stream",
          "name": "stdout",
          "text": [
            "[[0.20209265]]\n"
          ]
        }
      ]
    },
    {
      "cell_type": "markdown",
      "source": [
        "**which means that this slurry composition tends to be as anode eletrode**"
      ],
      "metadata": {
        "id": "S-jveOEcKhob"
      }
    }
  ]
}